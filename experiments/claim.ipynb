{
 "cells": [
  {
   "cell_type": "code",
   "execution_count": 98,
   "metadata": {},
   "outputs": [],
   "source": [
    "from dotenv import load_dotenv\n",
    "load_dotenv()\n",
    "import os\n",
    "import google.generativeai as genai\n",
    "genai.configure(api_key=os.getenv(\"GOOGLE_API_KEY\"))\n",
    "from youtube_transcript_api import YouTubeTranscriptApi\n",
    "\n",
    "model_config = {\n",
    "  \"temperature\": 0.1,\n",
    "  \"top_p\": 1,\n",
    "  \"top_k\": 1,\n",
    "}\n",
    "\n",
    "summarizer_prompt=\"\"\"You are a Youtube video summarizer. \n",
    "You will be taking the transcript text and summarizing the content. Please provide the summary of the text given here : \"\"\"\n",
    "\n",
    "##Getting the transcript data from yt videos\n",
    "def extract_transript_details(youtube_video_url):\n",
    "    try:\n",
    "        video_id=youtube_video_url.split(\"=\")[1]\n",
    "        # print(video_id)\n",
    "        transcript_text=YouTubeTranscriptApi.get_transcript(video_id)\n",
    "        transcript=\"\"\n",
    "        for i in transcript_text:\n",
    "            transcript+=\" \"+i[\"text\"]\n",
    "\n",
    "    except Exception as e:\n",
    "        raise e\n",
    "    return transcript\n",
    "\n",
    "#Getting the summary based on prompt from Google Gemini Pro\n",
    "def generate_gemini_content(transcript_text, prompt):\n",
    "    model=genai.GenerativeModel(\"gemini-pro\", generation_config= model_config)\n",
    "    response=model.generate_content(prompt+transcript_text)\n",
    "    return response.text\n"
   ]
  },
  {
   "cell_type": "code",
   "execution_count": 99,
   "metadata": {},
   "outputs": [],
   "source": [
    "claim_prompt='''You are a medical expert who needs to research the validity of claims for scientific evidence.\n",
    "You will be provided a text. Identify at most 5 health/medicine/science/nutrition related claims that you would like to verify.\n",
    "Ignore opinions. The claims needs to be given in single line points separated by *. Make sure to include medical/ health related terminology. \n",
    "'''\n",
    "\n",
    "def generate_gemini_claims(summary, prompt):\n",
    "    model=genai.GenerativeModel('gemini-pro', generation_config= model_config)\n",
    "    response=model.generate_content(prompt+summary)\n",
    "    return response.text"
   ]
  },
  {
   "cell_type": "code",
   "execution_count": 100,
   "metadata": {},
   "outputs": [
    {
     "name": "stderr",
     "output_type": "stream",
     "text": [
      "I0000 00:00:1724998884.145052  270049 check_gcp_environment_no_op.cc:29] ALTS: Platforms other than Linux and Windows are not supported\n"
     ]
    }
   ],
   "source": [
    "youtube_link= \"https://www.youtube.com/watch?v=iFtqudy39sA\"\n",
    "transcript_text=extract_transript_details(youtube_link)\n",
    "summary=generate_gemini_content(transcript_text, summarizer_prompt)\n",
    "claims=generate_gemini_claims(summary, claim_prompt)"
   ]
  },
  {
   "cell_type": "code",
   "execution_count": 101,
   "metadata": {},
   "outputs": [
    {
     "data": {
      "text/plain": [
       "['Morning sunlight improves mood, energy, and sleep.',\n",
       " 'Caffeine consumption after 1.5-2 hours of waking prevents afternoon crashes.',\n",
       " 'Protein-rich, fiber-filled breakfasts sustain energy throughout the day.',\n",
       " 'Post-meal walks regulate glucose levels and avoid afternoon slumps.',\n",
       " 'Cold showers boost dopamine levels and provide a temporary energy boost.']"
      ]
     },
     "execution_count": 101,
     "metadata": {},
     "output_type": "execute_result"
    }
   ],
   "source": [
    "lines= claims.strip().split(\"\\n\")\n",
    "claims_list= [line.lstrip('* ').strip() for line in lines if line.startswith('* ')]\n",
    "claims_list"
   ]
  },
  {
   "cell_type": "code",
   "execution_count": 120,
   "metadata": {},
   "outputs": [],
   "source": [
    "keyword_prompt= \"\"\"You are a medical researcher who wants to check the validity of the following claim by searching for articles from pubmed. \n",
    "Extract at most 3 medical/health/nutrition related keywords summarizing the claim. The keywords should be single word as much as possible\"\"\"\n",
    "\n",
    "def generate_gemini_keywords(claims, keyword_prompt):\n",
    "    model=genai.GenerativeModel('gemini-pro', generation_config= model_config)\n",
    "    response=model.generate_content(keyword_prompt+claims)\n",
    "    return response.text\n"
   ]
  },
  {
   "cell_type": "code",
   "execution_count": 121,
   "metadata": {},
   "outputs": [
    {
     "data": {
      "text/plain": [
       "['Morning sunlight improves mood, energy, and sleep.',\n",
       " 'Caffeine consumption after 1.5-2 hours of waking prevents afternoon crashes.',\n",
       " 'Protein-rich, fiber-filled breakfasts sustain energy throughout the day.',\n",
       " 'Post-meal walks regulate glucose levels and avoid afternoon slumps.',\n",
       " 'Cold showers boost dopamine levels and provide a temporary energy boost.']"
      ]
     },
     "execution_count": 121,
     "metadata": {},
     "output_type": "execute_result"
    }
   ],
   "source": [
    "claims_list"
   ]
  },
  {
   "cell_type": "code",
   "execution_count": 122,
   "metadata": {},
   "outputs": [
    {
     "name": "stdout",
     "output_type": "stream",
     "text": [
      "- Sunlight\n",
      "- Mood\n",
      "- Sleep\n",
      "\n",
      "\n",
      "- Caffeine\n",
      "- Afternoon crashes\n",
      "- Wakefulness\n",
      "\n",
      "\n",
      "- Protein\n",
      "- Fiber\n",
      "- Breakfast\n",
      "\n",
      "\n",
      "- Glucose\n",
      "- Postprandial\n",
      "- Ambulation\n",
      "\n",
      "\n",
      "- Dopamine\n",
      "- Energy\n",
      "- Cold showers\n",
      "\n",
      "\n"
     ]
    }
   ],
   "source": [
    "\n",
    "for claim in claims_list:\n",
    "    response= generate_gemini_keywords(claims= claim, keyword_prompt=keyword_prompt)\n",
    "    print(response)\n",
    "    print(\"\\n\")"
   ]
  },
  {
   "cell_type": "code",
   "execution_count": null,
   "metadata": {},
   "outputs": [],
   "source": []
  }
 ],
 "metadata": {
  "kernelspec": {
   "display_name": "Python 3",
   "language": "python",
   "name": "python3"
  },
  "language_info": {
   "codemirror_mode": {
    "name": "ipython",
    "version": 3
   },
   "file_extension": ".py",
   "mimetype": "text/x-python",
   "name": "python",
   "nbconvert_exporter": "python",
   "pygments_lexer": "ipython3",
   "version": "3.9.19"
  }
 },
 "nbformat": 4,
 "nbformat_minor": 2
}
